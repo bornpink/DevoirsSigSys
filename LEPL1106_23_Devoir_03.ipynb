{
 "cells": [
  {
   "cell_type": "markdown",
   "metadata": {
    "id": "x1kwBO2yJBpJ"
   },
   "source": [
    "# LEPL1106, Devoir 3 : représentation d'état\n",
    "\n",
    "## 0) Introduction et objectif\n",
    "\n",
    "\n",
    "*Vous venez d'acheter une maison à rénover qui se situe à côté d'un héliport. Pour limiter les nuisances sonores liées au décollage et à l'atterrissage des hélicoptères, vous cherchez à mieux isoler acoustiquement la maison. Pour répondre à ce problème, vous allez évaluer la transmission des bruits de moteurs dans la maison à partir d'un système modélisant cette transmission.*\n",
    "\n",
    "On vous demande donc de créer une fonction qui calcule la réponse impulsionnelle d'un système, ainsi que l'évolution de la sortie de ce système (sa *réponse*) en fonction d'une entrée donnée. On vous demande également de trouver la représentation d'état du système, ainsi que de répondre à un petit QCM en fin de devoir.\n",
    "\n",
    "Pour créer, stocker, et opérer sur les signaux, on utilisera le package [`NumPy`](http://www.numpy.org/) de Python. Pour manipuler les systèmes, on utilisera le package [`scipy.signal`](https://docs.scipy.org/doc/scipy/reference/signal.html)."
   ]
  },
  {
   "cell_type": "code",
   "execution_count": 151,
   "metadata": {
    "id": "_KcCsGK1JBpa"
   },
   "outputs": [],
   "source": [
    "import numpy as np\n",
    "import scipy.signal as sg\n",
    "\n",
    "import matplotlib.pyplot as plt"
   ]
  },
  {
   "attachments": {},
   "cell_type": "markdown",
   "metadata": {
    "id": "Vnqz21PiJBpd"
   },
   "source": [
    "## 1) Consignes\n",
    "\n",
    "En partant du template fourni ci-dessous, complétez la fonction  `(ty,y) = systemeDiscret(A,B,C,D,ts,x=None)` qui calcule la réponse d'un système discret à un signal d'entrée donné.\n",
    "Votre fonction prendra comme arguments:\n",
    "\n",
    "- Les matrices (numpy array) ``A``, ``B``, ``C``, ``D`` qui correspondent au système avec pour représentation d'état\n",
    "$$\n",
    "    \\begin{align}\n",
    "        q[n+1]&=Aq[n]+Bx[n],\\\\\n",
    "          y[n]&=Cq[n]+Dx[n]\n",
    "    \\end{align}\n",
    "$$\n",
    "et qui ont donc les dimensions adéquates.\n",
    "\n",
    "- ``ts``qui donne le temps d'échantillonnage $t_s>0$ (i.e., temps entre deux mesures consécutives) du système en secondes. Si le système est discret par nature, n'importe quelle valeur pour ``ts`` peut être utilisée, mais la plus naturelle est ``ts``=1.\n",
    "\n",
    "- ``x`` qui est un signal d'entrée $x[n]$ discret sous forme vectorielle (numpy array). Ce signal commence en $t=0$ et a un temps d'échantillonage de $t_s$. Cette entrée est optionnelle.\n",
    "\n",
    "Votre fonction doit fournir en sortie (sous forme de numpy array)\n",
    "\n",
    "- `y`, la réponse du système $y$ pour l'entrée $x$ si celle-ci est fournie (autrement dit, si `x` est différent de `None`), **autrement `y` est la réponse impulsionnelle du système.**\n",
    "- `ty` le vecteur temps associé au signal `y`, qui doit être cohérent avec la valeur ``ts``. \n",
    "\n",
    "On vous demande que chaque sortie soit un vecteur, ce qui signifie par exemple que la commande `ty.shape` doit vous retourner quelque chose de la forme `(100,)` (et non pas `(100,1)`).  Pour passer d'une représentation à l'autre vous pouvez utiliser la fonction `reshape` de numpy, ou la fonction `squeeze`.\n",
    "\n",
    "\n",
    "Vous avez réussi à modéliser la manière dont le bruit se transmet dans la maison en fonction de paramètres liés aux matériaux de construction (isolants ou non) utilisés. Ainsi, si $x[n]$ représente le bruit d'un moteur et $y[n]$ l'expression du bruit dans la maison, on a\n",
    "\n",
    "$$ y[n] = \\alpha x[n] + \\beta y[n-1].$$\n",
    "\n",
    "Remarquez que nous travaillons ici sur une version discrétisée du problème, ce qui est assez courant en pratique.\n",
    "Pour pouvoir tester ce modèle dans votre fonction ``systemeDiscret``, vous devez en trouver la représentation d'état. Ainsi, on vous demande d'implémenter la fonction ``(A,B,C,D) = computeMatrices(alpha,beta)`` qui prend en entrée les variables $\\alpha$ et $\\beta$  et retourne les matrices de la représentation d'état.\n",
    "\n",
    "\n",
    "Fonctions à utiliser: `StateSpace`, `dimpulse`, `dlsim` (*note: si vous ne savez pas ce que font ces fonctions, allez lire leur documentation ou utilisez ``help(sg.nomDeLaFonction)``)*.\n",
    "\n",
    "Vous devrez également adapter le [`docstring`](https://realpython.com/documenting-python-code/#documenting-your-python-code-base-using-docstrings) (commentaire au début de votre fonction, qui s'affiche quand on tape ``help(nomDeLaFonction)``) comme indiqué dans les devoirs précédents."
   ]
  },
  {
   "cell_type": "markdown",
   "metadata": {
    "id": "aDl7Hf4pJBph"
   },
   "source": [
    "### Evaluation\n",
    "\n",
    "Les critères et modalités d'évaluation sont repris ci-dessous :\n",
    "\n",
    "- *Respect consignes (1 point)* : description précise des fonction et présence de toutes les informations importantes en commentaire, tentative d'atteindre l'objectif du devoir.\n",
    "- *Fonction systemeDiscret (3 points)* : la fonction soumise remplit les objectifs du devoir et passe avec succès des tests simples, moyens et avancés.\n",
    "- *Fonction computeMatrices (1 point)* : la fonction soumise remplit les objectifs du devoir\n",
    "- *Interprétation des réponses impulsionnelles (3 points)* : réponses correctes."
   ]
  },
  {
   "cell_type": "markdown",
   "metadata": {
    "id": "tzEAYYHNJBpi"
   },
   "source": [
    "### Deadline\n",
    "\n",
    "Le vendredi 10 mars à 20h00. Aucune extension n'est possible, prenez vos dispositions pour soumettre à temps, d'autant plus qu'**il est possible de faire seulement 5 soumissions par heure**."
   ]
  },
  {
   "cell_type": "markdown",
   "metadata": {
    "id": "yz0P5PwGJBpl"
   },
   "source": [
    "### Précision\n",
    "La remise par deux est autorisée pour peu que\n",
    "\n",
    "- les deux étudiants soient membres du même groupe de TP ;\n",
    "- les deux étudiants soient inscrits dans la même team sur la plateforme INGInious."
   ]
  },
  {
   "cell_type": "markdown",
   "metadata": {
    "id": "6v1Cq81JJBpn"
   },
   "source": [
    "## 2) Questions\n",
    "\n"
   ]
  },
  {
   "cell_type": "markdown",
   "metadata": {
    "id": "ID1vC5mbJBpv"
   },
   "source": [
    "\n",
    "Définis(sez) et commente(z) les fonctions ``systemeDiscret`` et ``computeMatrices``.\n"
   ]
  },
  {
   "cell_type": "code",
   "execution_count": 152,
   "metadata": {
    "id": "yiXfHei2JBpv"
   },
   "outputs": [],
   "source": [
    "## LE CONTENU DE CETTE CELLLULE EST A SOUMETTRE SUR INGINIOUS\n",
    "def systemeDiscret(A,B,C,D,ts,x=None):\n",
    "    \"\"\"\n",
    "    Calcule la réponse d'un système discret en fonction d'une entrée x.\n",
    "    \n",
    "    Si x n'est pas fourni, la fonction renvoie la réponse impulsionnelle du système.\n",
    "    \n",
    "    Arguments\n",
    "    ---------\n",
    "    TODO\n",
    "    \n",
    "    Retourne\n",
    "    --------\n",
    "    TODO\n",
    "    \"\"\"\n",
    "    \n",
    "    # Représentation du système\n",
    "    sys = sg.StateSpace(A,B,C,D, dt=ts)\n",
    "\n",
    "    if x is None:\n",
    "        # Renvoie la réponse impulsionnelle\n",
    "        ty, y = sg.dimpulse(sys)\n",
    "    \n",
    "    else:\n",
    "        # Calcule la réponse du système avec x comme entrée\n",
    "        ty, y, xout = sg.dlsim(sys, x)\n",
    "    \n",
    "    # Formate y dans les bonnes dimensions\n",
    "    y = np.array(y).squeeze()\n",
    "    \n",
    "    return (ty, y)"
   ]
  },
  {
   "cell_type": "code",
   "execution_count": 153,
   "metadata": {},
   "outputs": [],
   "source": [
    "## LE CONTENU DE CETTE CELLLULE EST A SOUMETTRE SUR INGINIOUS\n",
    "def computeMatrices(alpha,beta):\n",
    "    \n",
    "    A = 0 #TODO\n",
    "    B = 0 #TODO\n",
    "    C = 0 #TODO\n",
    "    D = 0 #TODO\n",
    "    \n",
    "    return (A,B,C,D)"
   ]
  },
  {
   "cell_type": "markdown",
   "metadata": {
    "id": "yKwyUA5jJBpw"
   },
   "source": [
    "Maintenant, teste(z) la fonction écrite en utilisant la cellule ci-dessous. "
   ]
  },
  {
   "cell_type": "code",
   "execution_count": 154,
   "metadata": {
    "id": "u7xFiRSzJBpw"
   },
   "outputs": [
    {
     "name": "stdout",
     "output_type": "stream",
     "text": [
      "[ 0.   0.2  0.4  0.6  0.8  1.   1.2  1.4  1.6  1.8  2.   2.2  2.4  2.6\n",
      "  2.8  3.   3.2  3.4  3.6  3.8  4.   4.2  4.4  4.6  4.8  5.   5.2  5.4\n",
      "  5.6  5.8  6.   6.2  6.4  6.6  6.8  7.   7.2  7.4  7.6  7.8  8.   8.2\n",
      "  8.4  8.6  8.8  9.   9.2  9.4  9.6  9.8 10.  10.2 10.4 10.6 10.8 11.\n",
      " 11.2 11.4 11.6 11.8 12.  12.2 12.4 12.6 12.8 13.  13.2 13.4 13.6 13.8\n",
      " 14.  14.2 14.4 14.6 14.8 15.  15.2 15.4 15.6 15.8 16.  16.2 16.4 16.6\n",
      " 16.8 17.  17.2 17.4 17.6 17.8 18.  18.2 18.4 18.6 18.8 19.  19.2 19.4\n",
      " 19.6 19.8]\n",
      "[-1.10000000e+00  4.00000000e-01  8.00000000e-02  1.60000000e-02\n",
      "  3.20000000e-03  6.40000000e-04  1.28000000e-04  2.56000000e-05\n",
      "  5.12000000e-06  1.02400000e-06  2.04800000e-07  4.09600000e-08\n",
      "  8.19200000e-09  1.63840000e-09  3.27680000e-10  6.55360000e-11\n",
      "  1.31072000e-11  2.62144000e-12  5.24288000e-13  1.04857600e-13\n",
      "  2.09715200e-14  4.19430400e-15  8.38860800e-16  1.67772160e-16\n",
      "  3.35544320e-17  6.71088640e-18  1.34217728e-18  2.68435456e-19\n",
      "  5.36870912e-20  1.07374182e-20  2.14748365e-21  4.29496730e-22\n",
      "  8.58993459e-23  1.71798692e-23  3.43597384e-24  6.87194767e-25\n",
      "  1.37438953e-25  2.74877907e-26  5.49755814e-27  1.09951163e-27\n",
      "  2.19902326e-28  4.39804651e-29  8.79609302e-30  1.75921860e-30\n",
      "  3.51843721e-31  7.03687442e-32  1.40737488e-32  2.81474977e-33\n",
      "  5.62949953e-34  1.12589991e-34  2.25179981e-35  4.50359963e-36\n",
      "  9.00719925e-37  1.80143985e-37  3.60287970e-38  7.20575940e-39\n",
      "  1.44115188e-39  2.88230376e-40  5.76460752e-41  1.15292150e-41\n",
      "  2.30584301e-42  4.61168602e-43  9.22337204e-44  1.84467441e-44\n",
      "  3.68934881e-45  7.37869763e-46  1.47573953e-46  2.95147905e-47\n",
      "  5.90295810e-48  1.18059162e-48  2.36118324e-49  4.72236648e-50\n",
      "  9.44473297e-51  1.88894659e-51  3.77789319e-52  7.55578637e-53\n",
      "  1.51115727e-53  3.02231455e-54  6.04462910e-55  1.20892582e-55\n",
      "  2.41785164e-56  4.83570328e-57  9.67140656e-58  1.93428131e-58\n",
      "  3.86856262e-59  7.73712525e-60  1.54742505e-60  3.09485010e-61\n",
      "  6.18970020e-62  1.23794004e-62  2.47588008e-63  4.95176016e-64\n",
      "  9.90352031e-65  1.98070406e-65  3.96140813e-66  7.92281625e-67\n",
      "  1.58456325e-67  3.16912650e-68  6.33825300e-69  1.26765060e-69]\n"
     ]
    },
    {
     "data": {
      "image/png": "[encoded data removed]",
      "text/plain": [
       "<Figure size 1500x500 with 1 Axes>"
      ]
     },
     "metadata": {},
     "output_type": "display_data"
    }
   ],
   "source": [
    "## CELLULE DE TEST\n",
    "\n",
    "# Créer un signal sinusoidal discret\n",
    "ts = 0.2\n",
    "tx = np.arange(0, 20+ts, ts)\n",
    "x = np.sin(0.5*np.pi*tx)\n",
    "\n",
    "# Créer un système\n",
    "A = np.array([0.2])\n",
    "B = np.array([0.2])\n",
    "C = np.array([2.0])\n",
    "D = np.array([-1.1])\n",
    "\n",
    "#Décommenter si vous voulez utiliser computeMatrices pour trouver A,B,C,D:\n",
    "#A,B,C,D = computeMatrices(1,1)\n",
    "\n",
    "# Obtenir la reponse impulsionelle\n",
    "th, h = systemeDiscret(A, B, C, D, ts)\n",
    "print(th)\n",
    "print(h)\n",
    "\n",
    "# Obtenir la reponse à l'entrée x[n]\n",
    "ty, y = systemeDiscret(A, B, C, D, ts, x)\n",
    "\n",
    "\n",
    "# Affichage\n",
    "plt.figure(figsize=(15,5))\n",
    "plt.rcParams.update({\"font.size\" : 18})\n",
    "\n",
    "mk_x, st_x, bl_x = plt.stem(tx, x, label=\"$x[n]$\", use_line_collection=True)\n",
    "mk_h, st_h, bl_h = plt.stem(th, h, label=\"$h[n]$\", use_line_collection=True)\n",
    "mk_y, st_y, bl_y = plt.stem(ty, y, label=\"$y[n]$\", use_line_collection=True)\n",
    "\n",
    "mks = (mk_x, mk_h, mk_y)\n",
    "sts = (st_x, st_h, st_y)\n",
    "bls = (bl_x, bl_h, bl_y)\n",
    "\n",
    "colors = (\"b\", \"g\", \"r\")\n",
    "sizes = (5, 6, 7)\n",
    "\n",
    "# Donner du style aux signals de façon compacte \n",
    "for mk, st, bl, c, s in zip(mks, sts, bls, colors, sizes):\n",
    "    bl.set_color('k') \n",
    "    bl.set_linewidth(1)\n",
    "    mk.set_markersize(s)\n",
    "    mk.set_color(c) \n",
    "    st.set_color(c) \n",
    "\n",
    "    \n",
    "plt.xlim([0.0, 15.0])\n",
    "\n",
    "plt.title(\"Entrée $x[n]$, réponse impulsionnelle $h[n]$ et sortie $y[n]$ correspondant à un système donné \")\n",
    "plt.xlabel('$n\\cdot t_s$ [s]')\n",
    "\n",
    "plt.legend()\n",
    "plt.show()"
   ]
  },
  {
   "cell_type": "markdown",
   "metadata": {
    "id": "UetnqyVkJBpy"
   },
   "source": [
    "## QCM\n",
    "\n",
    "Vous retrouverez le QCM sur Inginious. On vous y demande de donner la stabilité et la causalité d'un système sur base de sa réponse impulsionnelle. \n",
    "\n",
    "Les réponses impulsionnelles présentées sur Inginious sont les réponses impulsionnelles du système avec $\\alpha, \\beta = (0.1, -0.995); (0.1,1.0001); (2,0.8).$ \n",
    "\n",
    "Vous pouvez donc vérifier à l'aide du code ci-dessous si votre implémentation des deux fonctions précédentes est correcte, et écouter l'effet du choix des matériaux isolants (le système) sur les bruits de moteurs (enregistré dans ``bruit_moteur.wav`` fourni sur Moodle).\n"
   ]
  },
  {
   "cell_type": "code",
   "execution_count": 155,
   "metadata": {
    "id": "P5roPx6sJBpy",
    "scrolled": true
   },
   "outputs": [
    {
     "ename": "FileNotFoundError",
     "evalue": "[Errno 2] No such file or directory: 'data/bruit_moteur.wav'",
     "output_type": "error",
     "traceback": [
      "\u001b[1;31m---------------------------------------------------------------------------\u001b[0m",
      "\u001b[1;31mFileNotFoundError\u001b[0m                         Traceback (most recent call last)",
      "\u001b[1;32m~\\AppData\\Local\\Temp\\ipykernel_1212\\3120399608.py\u001b[0m in \u001b[0;36m<module>\u001b[1;34m\u001b[0m\n\u001b[0;32m      1\u001b[0m \u001b[1;32mfrom\u001b[0m \u001b[0mscipy\u001b[0m\u001b[1;33m.\u001b[0m\u001b[0mio\u001b[0m\u001b[1;33m.\u001b[0m\u001b[0mwavfile\u001b[0m \u001b[1;32mimport\u001b[0m \u001b[0mread\u001b[0m\u001b[1;33m,\u001b[0m \u001b[0mwrite\u001b[0m\u001b[1;33m\u001b[0m\u001b[1;33m\u001b[0m\u001b[0m\n\u001b[0;32m      2\u001b[0m \u001b[1;33m\u001b[0m\u001b[0m\n\u001b[1;32m----> 3\u001b[1;33m \u001b[0mfs\u001b[0m\u001b[1;33m,\u001b[0m \u001b[0mx\u001b[0m \u001b[1;33m=\u001b[0m \u001b[0mread\u001b[0m\u001b[1;33m(\u001b[0m\u001b[1;34m\"data/bruit_moteur.wav\"\u001b[0m\u001b[1;33m)\u001b[0m\u001b[1;33m\u001b[0m\u001b[1;33m\u001b[0m\u001b[0m\n\u001b[0m\u001b[0;32m      4\u001b[0m \u001b[0mtypeL\u001b[0m \u001b[1;33m=\u001b[0m \u001b[0mtype\u001b[0m\u001b[1;33m(\u001b[0m\u001b[0mx\u001b[0m\u001b[1;33m[\u001b[0m\u001b[1;36m0\u001b[0m\u001b[1;33m]\u001b[0m\u001b[1;33m)\u001b[0m \u001b[1;31m#Le type utilisé par votre ordinateur pour les fichiers sons\u001b[0m\u001b[1;33m\u001b[0m\u001b[1;33m\u001b[0m\u001b[0m\n\u001b[0;32m      5\u001b[0m \u001b[0mts\u001b[0m \u001b[1;33m=\u001b[0m \u001b[1;36m1\u001b[0m\u001b[1;33m/\u001b[0m\u001b[0mfs\u001b[0m\u001b[1;33m\u001b[0m\u001b[1;33m\u001b[0m\u001b[0m\n",
      "\u001b[1;32mc:\\Users\\Sacha\\anaconda3\\lib\\site-packages\\scipy\\io\\wavfile.py\u001b[0m in \u001b[0;36mread\u001b[1;34m(filename, mmap)\u001b[0m\n\u001b[0;32m    645\u001b[0m         \u001b[0mmmap\u001b[0m \u001b[1;33m=\u001b[0m \u001b[1;32mFalse\u001b[0m\u001b[1;33m\u001b[0m\u001b[1;33m\u001b[0m\u001b[0m\n\u001b[0;32m    646\u001b[0m     \u001b[1;32melse\u001b[0m\u001b[1;33m:\u001b[0m\u001b[1;33m\u001b[0m\u001b[1;33m\u001b[0m\u001b[0m\n\u001b[1;32m--> 647\u001b[1;33m         \u001b[0mfid\u001b[0m \u001b[1;33m=\u001b[0m \u001b[0mopen\u001b[0m\u001b[1;33m(\u001b[0m\u001b[0mfilename\u001b[0m\u001b[1;33m,\u001b[0m \u001b[1;34m'rb'\u001b[0m\u001b[1;33m)\u001b[0m\u001b[1;33m\u001b[0m\u001b[1;33m\u001b[0m\u001b[0m\n\u001b[0m\u001b[0;32m    648\u001b[0m \u001b[1;33m\u001b[0m\u001b[0m\n\u001b[0;32m    649\u001b[0m     \u001b[1;32mtry\u001b[0m\u001b[1;33m:\u001b[0m\u001b[1;33m\u001b[0m\u001b[1;33m\u001b[0m\u001b[0m\n",
      "\u001b[1;31mFileNotFoundError\u001b[0m: [Errno 2] No such file or directory: 'data/bruit_moteur.wav'"
     ]
    }
   ],
   "source": [
    "from scipy.io.wavfile import read, write\n",
    "\n",
    "fs, x = read(\"data/bruit_moteur.wav\")\n",
    "typeL = type(x[0]) #Le type utilisé par votre ordinateur pour les fichiers sons\n",
    "ts = 1/fs\n",
    "\n",
    "#modifier pour voir les autres cas\n",
    "alpha = 0.1\n",
    "beta = 0.995\n",
    "\n",
    "A1,B1,C1,D1 = computeMatrices(alpha,beta)\n",
    "\n",
    "# Affichage\n",
    "plt.figure(figsize=(15,5))\n",
    "plt.rcParams.update({\"font.size\" : 18})\n",
    "\n",
    "[th1, h1] = systemeDiscret(A1, B1, C1, D1, ts)\n",
    "_,_, bl = plt.stem(th1, h1, label=\"$h[n]$\", use_line_collection=True)\n",
    "bl.set_color('k') \n",
    "bl.set_linewidth(1)\n",
    "\n",
    "plt.title(\"Réponse impulsionnelle $h[n]$ d'un système donné \")\n",
    "plt.xlabel('$n\\cdot t_s$ [s]')\n",
    "\n",
    "plt.legend()\n",
    "plt.savefig(str(alpha)+\"_\"+str(beta)+\".png\") \n",
    "plt.show()\n",
    "\n",
    "[ty1, y1] = systemeDiscret(A1, B1, C1, D1, ts, x)\n",
    "\n",
    "\n",
    "# Ce cast de y1 est nécessaire pour que le fichier soit lu, \n",
    "# mais tronque certaines données\n",
    "y1 = y1.astype(typeL) \n",
    "write(\"sortie.wav\", fs, y1)"
   ]
  },
  {
   "cell_type": "markdown",
   "metadata": {
    "id": "fsS4MTiCJBpz"
   },
   "source": [
    "Vous pouvez aller lire les fichiers `sortie.wav` ainsi obtenus à l'aide de votre lecteur préféré."
   ]
  },
  {
   "cell_type": "code",
   "execution_count": null,
   "metadata": {},
   "outputs": [],
   "source": []
  }
 ],
 "metadata": {
  "colab": {
   "collapsed_sections": [],
   "name": "Devoir_03.ipynb",
   "provenance": []
  },
  "kernelspec": {
   "display_name": "Python 3 (ipykernel)",
   "language": "python",
   "name": "python3"
  },
  "language_info": {
   "codemirror_mode": {
    "name": "ipython",
    "version": 3
   },
   "file_extension": ".py",
   "mimetype": "text/x-python",
   "name": "python",
   "nbconvert_exporter": "python",
   "pygments_lexer": "ipython3",
   "version": "3.9.13"
  }
 },
 "nbformat": 4,
 "nbformat_minor": 1
}
